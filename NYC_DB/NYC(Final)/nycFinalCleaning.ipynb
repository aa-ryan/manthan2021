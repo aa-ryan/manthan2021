{
 "cells": [
  {
   "cell_type": "code",
   "execution_count": 31,
   "metadata": {},
   "outputs": [],
   "source": [
    "#importing libraries\n",
    "import numpy as np\n",
    "import pandas as pd\n",
    "import functools as ft"
   ]
  },
  {
   "cell_type": "code",
   "execution_count": 32,
   "metadata": {},
   "outputs": [
    {
     "name": "stderr",
     "output_type": "stream",
     "text": [
      "C:\\Users\\rajaa\\anaconda3\\lib\\site-packages\\IPython\\core\\interactiveshell.py:3165: DtypeWarning: Columns (18,20) have mixed types.Specify dtype option on import or set low_memory=False.\n",
      "  has_raised = await self.run_ast_nodes(code_ast.body, cell_name,\n"
     ]
    }
   ],
   "source": [
    "#reading the csv file\n",
    "df= pd.read_csv(\"E:/nyc-crime/NYPD_Complaint_Data_Historic(1).csv\")"
   ]
  },
  {
   "cell_type": "code",
   "execution_count": 33,
   "metadata": {},
   "outputs": [],
   "source": [
    "#dropping the irrelevant columns\n",
    "toDrop= ['CMPLNT_NUM','CMPLNT_FR_DT','CMPLNT_FR_TM','CMPLNT_TO_DT','CMPLNT_TO_TM','ADDR_PCT_CD',\n",
    "'KY_CD','PD_CD','PD_DESC','CRM_ATPT_CPTD_CD','LAW_CAT_CD',\n",
    "'LOC_OF_OCCUR_DESC','PREM_TYP_DESC','JURIS_DESC','JURISDICTION_CODE','PARKS_NM','HADEVELOPT',\n",
    "'HOUSING_PSA','X_COORD_CD','Y_COORD_CD','SUSP_AGE_GROUP','SUSP_RACE','SUSP_SEX','TRANSIT_DISTRICT',\n",
    "'Latitude','Longitude','Lat_Lon','PATROL_BORO','STATION_NAME','VIC_AGE_GROUP','VIC_RACE','VIC_SEX']\n",
    "df.drop(toDrop, inplace=True, axis= 1)"
   ]
  },
  {
   "cell_type": "code",
   "execution_count": 34,
   "metadata": {},
   "outputs": [],
   "source": [
    "#creating a column named year reffering to year of occurence\n",
    "df['year']=df.RPT_DT.str.slice(-4)    #will consider the last 4 characters of the RPT_DT"
   ]
  },
  {
   "cell_type": "code",
   "execution_count": 35,
   "metadata": {},
   "outputs": [],
   "source": [
    "#updating the values of the cells of RPT_DT referring to Month only\n",
    "df['RPT_DT']= df.RPT_DT.str.slice(0,2)\n",
    "\n",
    "#if there is month sliced as '5/' then / will be replaced with empty string\n",
    "df['RPT_DT']=df.RPT_DT.str.replace(\"/\",\"\")"
   ]
  },
  {
   "cell_type": "code",
   "execution_count": 36,
   "metadata": {},
   "outputs": [],
   "source": [
    "#changing the data typy of RPT_DT and year from object to Year\n",
    "newType= {'RPT_DT': int, 'year': int}\n",
    "df=df.astype(newType)"
   ]
  },
  {
   "cell_type": "code",
   "execution_count": 37,
   "metadata": {},
   "outputs": [],
   "source": [
    "#creating a list containg the unique numbers of the year and month mentioned\n",
    "years= pd.unique(df['year'])\n",
    "months= pd.unique(df['RPT_DT'])\n",
    "\n",
    "years.sort()\n",
    "months.sort()\n",
    "\n",
    "def getMultiIndex(yr,mon):\n",
    "    l1= [yr[0]]*np.alen(mon)\n",
    "    for i in yr:\n",
    "        if i==yr[0]:\n",
    "            continue\n",
    "        l2= [i]*np.alen(mon)\n",
    "        l1.extend(l2)\n",
    "    m1=list(mon)\n",
    "    for j in range(len(yr)-1):\n",
    "        m1.extend(mon)\n",
    "\n",
    "    arrays= [l1,m1]\n",
    "    tuples= list(zip(*arrays))\n",
    "    ind= pd.MultiIndex.from_tuples(tuples,names=['year','month'])\n",
    "    return ind\n",
    "\n",
    "index= getMultiIndex(years,months)"
   ]
  },
  {
   "cell_type": "code",
   "execution_count": 38,
   "metadata": {},
   "outputs": [],
   "source": [
    "#renaming the column RPT_DT to Month and year to Year respectively\n",
    "df= df.rename(columns= {'RPT_DT': 'Month', 'year': 'Year', 'OFNS_DESC': 'Category'})"
   ]
  },
  {
   "cell_type": "code",
   "execution_count": 39,
   "metadata": {},
   "outputs": [],
   "source": [
    "#to retrieve data frame for all years on monthly basis crime frequency\n",
    "def getYearDataFrame(NoOfYears):\n",
    "    yearList= list(np.arange(NoOfYears))\n",
    "    for i in np.arange(NoOfYears):\n",
    "        yearList[i]= yearDataFrame(years[i])\n",
    "    return yearList\n",
    "\n",
    "#to retrieve data frame for monthly basis crime freqeuncy for a single year on the basis of the given year\n",
    "def yearDataFrame(yearNumber):\n",
    "    yearTemp= df.loc[df['Year']==yearNumber]\n",
    "    monthFrame= getMonthDataFrame(yearTemp,len(months),yearNumber)\n",
    "    yearDf= ft.reduce(lambda left, right: pd.merge(left,right,on='Category',how='outer'),monthFrame)\n",
    "    yearDf=yearDf.fillna(0)\n",
    "    return yearDf\n",
    "\n",
    "#to retrive the monthly basis crime frequency for all months of a year\n",
    "def getMonthDataFrame(yearTem,noOfMonths,yearNum):\n",
    "    monthList= list(np.arange(noOfMonths))\n",
    "    for i in np.arange(noOfMonths):\n",
    "        monthList[i]= monthDataFrame(yearTem,months[i],yearNum)\n",
    "    return monthList\n",
    "\n",
    "#to retrieve the dataframe for crime frequency of a single month\n",
    "def monthDataFrame(yearTempo,monthNumber,yearNo):\n",
    "    monthTemp= yearTempo.loc[df['Month']==monthNumber]\n",
    "    monthlyTempDf= monthTemp['Category'].value_counts().rename_axis('Category').reset_index(name=\"Month-\"+str(monthNumber)+\"(\"+str(yearNo)+\")\")\n",
    "    return monthlyTempDf    \n",
    "\n",
    "final_list= getYearDataFrame(len(years))"
   ]
  },
  {
   "cell_type": "code",
   "execution_count": 40,
   "metadata": {},
   "outputs": [],
   "source": [
    "#merging all the year based dataframe into a single dataframe taking the Category as the common field\n",
    "df_final= ft.reduce(lambda left, right: pd.merge(left,right,on='Category',how='outer'),final_list)\n",
    "\n",
    "#replace all na values with 0\n",
    "df_final= df_final.fillna(0)"
   ]
  },
  {
   "cell_type": "code",
   "execution_count": 41,
   "metadata": {},
   "outputs": [],
   "source": [
    "#adding row showing total crime in each month\n",
    "crimeInMonth= np.arange((len(months)*len(years))+1)\n",
    "count=0\n",
    "for i in np.arange(len(years)):\n",
    "    for j in np.arange(len(months)):\n",
    "               #crimeInMonth[count+1]= np.sum(df_final['Month-12(2015)'])\n",
    "                crimeInMonth[count+1]= np.sum(df_final['Month-'+str(months[j])+\"(\"+str(years[i])+')'])\n",
    "                count+=1\n",
    "               # crimeInMonth[count+1]= np.sum(df_final['Month-'+str(months[j])+\"(\"+str(years[i])+\")\"])\n",
    "    \n",
    "\n",
    "crimeMonth= pd.DataFrame([crimeInMonth],columns=df_final.columns)\n",
    "crimeMonth['Category']='TOTAL'\n",
    "\n",
    "df_final= pd.concat([df_final,crimeMonth],ignore_index=True)"
   ]
  },
  {
   "cell_type": "code",
   "execution_count": 42,
   "metadata": {},
   "outputs": [],
   "source": [
    "#retrieving all unique categories as a list\n",
    "cat= df_final['Category']"
   ]
  },
  {
   "cell_type": "code",
   "execution_count": 43,
   "metadata": {},
   "outputs": [],
   "source": [
    "#removing the Category column\n",
    "df_final.drop(['Category'],inplace= True, axis=1)"
   ]
  },
  {
   "cell_type": "code",
   "execution_count": 44,
   "metadata": {},
   "outputs": [],
   "source": [
    "#retrieving all teh data from the dataFrame df_final\n",
    "data= df_final.values"
   ]
  },
  {
   "cell_type": "code",
   "execution_count": 45,
   "metadata": {},
   "outputs": [],
   "source": [
    "#using the retrieved data from df_final as input to a new\n",
    "#dataframe subDf taking the multiindex.\n",
    "subDf= pd.DataFrame(data= data, columns= index)\n"
   ]
  },
  {
   "cell_type": "code",
   "execution_count": 46,
   "metadata": {},
   "outputs": [],
   "source": [
    "#inserting the Category column in the dataframe subDf\n",
    "subDf.insert(0,'Category',cat)\n",
    "#selecting the Category column as the index\n",
    "subDf= subDf.set_index('Category')"
   ]
  },
  {
   "cell_type": "code",
   "execution_count": null,
   "metadata": {},
   "outputs": [],
   "source": [
    "#to Download the mutated dataframe as csv\n",
    "subDf.to_csv('nycFrequency.csv')"
   ]
  },
  {
   "cell_type": "code",
   "execution_count": 48,
   "metadata": {},
   "outputs": [
    {
     "name": "stderr",
     "output_type": "stream",
     "text": [
      "<ipython-input-48-82a759c921e7>:8: SettingWithCopyWarning: \n",
      "A value is trying to be set on a copy of a slice from a DataFrame.\n",
      "Try using .loc[row_indexer,col_indexer] = value instead\n",
      "\n",
      "See the caveats in the documentation: https://pandas.pydata.org/pandas-docs/stable/user_guide/indexing.html#returning-a-view-versus-a-copy\n",
      "  dfTest[i][j]*=(100/dfTest[i][j][monTotal])\n"
     ]
    }
   ],
   "source": [
    "# a function to calculate percentage of each crime in each month per year\n",
    "def getPercentDataFrame(df1):\n",
    "    dfTest= df1\n",
    "    monTotal= dfTest.last_valid_index()\n",
    "    for i in years:\n",
    "        for j in months:\n",
    "            if(dfTest[i][j][monTotal]>0):\n",
    "                dfTest[i][j]*=(100/dfTest[i][j][monTotal])\n",
    "                continue\n",
    "            dfTest[i][j]=0\n",
    "    return dfTest\n",
    "#function call\n",
    "subDf= getPercentDataFrame(subDf)"
   ]
  },
  {
   "cell_type": "code",
   "execution_count": null,
   "metadata": {},
   "outputs": [],
   "source": [
    "#to download the mutated dataframe as csv\n",
    "subDf.to_csv(\"nycPercentage.csv\")"
   ]
  }
 ],
 "metadata": {
  "interpreter": {
   "hash": "40af2edec521f33cde59752a895feb0a05969edae522c099fbec3ef27845b411"
  },
  "kernelspec": {
   "display_name": "Python 3.8.8 64-bit ('base': conda)",
   "name": "python3"
  },
  "language_info": {
   "codemirror_mode": {
    "name": "ipython",
    "version": 3
   },
   "file_extension": ".py",
   "mimetype": "text/x-python",
   "name": "python",
   "nbconvert_exporter": "python",
   "pygments_lexer": "ipython3",
   "version": "3.8.8"
  },
  "orig_nbformat": 4
 },
 "nbformat": 4,
 "nbformat_minor": 2
}
