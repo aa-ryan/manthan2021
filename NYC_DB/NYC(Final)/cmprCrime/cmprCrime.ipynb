{
 "cells": [
  {
   "cell_type": "code",
   "execution_count": null,
   "metadata": {},
   "outputs": [],
   "source": [
    "import json\n",
    "import math\n",
    "with open('./BRONX.json') as f:\n",
    "  bronx = json.load(f)\n",
    "with open('./BROOKLYN.json') as f:\n",
    "  brooklyn = json.load(f)\n",
    "with open('./MANHATTAN.json') as f:\n",
    "  manhattan = json.load(f)\n",
    "with open('./QUEENS.json') as f:\n",
    "  queens = json.load(f)\n",
    "with open('./STATEN_ISLAND.json') as f:\n",
    "  staten = json.load(f)\n",
    "\n",
    "\n",
    "# Output: {'name': 'Bob', 'languages': ['English', 'Fench']}\n",
    "bx = bronx['BRONX']\n",
    "bn = brooklyn['BROOKLYN']\n",
    "m = manhattan['MANHATTAN']\n",
    "q = queens['QUEENS']\n",
    "s= staten['STATEN']\n",
    "\n",
    "\n",
    "# list = [m,bx,bn,q,s]\n",
    "print(q)\n",
    "print('\\n')\n",
    "\n",
    "months = ['Jan','Feb','Mar','Apr','May','Jun','Jul','Aug','Sep','Oct','Nov','Dec']\n",
    "# print(m,bx,bn,q,s,sep='\\n')\n",
    "max = -9999.00\n",
    "for i in range (0,5):\n",
    "    icf = float(q[i]['accepatableConfidence'])\n",
    "    if icf > max :\n",
    "        max = icf\n",
    "\n",
    "print(\"max: \",max)\n",
    "\n",
    "for i in range (0,5):\n",
    "    icf = float(q[i]['accepatableConfidence'])\n",
    "    x = max/icf\n",
    "    \n",
    "    for j in range(0,12):\n",
    "        q[i]['confidenceRates'][0][months[j]] = q[i]['confidenceRates'][0].get(months[j],1)*((100*x)/math.sqrt(float(q[i]['overallAverage'])))\n",
    "\n",
    "print(q)\n",
    "\n",
    "        \n",
    "\n",
    "\n",
    "\n",
    "\n",
    "\n"
   ]
  },
  {
   "cell_type": "code",
   "execution_count": 37,
   "metadata": {},
   "outputs": [],
   "source": [
    "\n",
    "\n",
    "# person_dict = {q[0]['crime']:q[0]}\n",
    "\n",
    "crime_dict={}\n",
    "for i in range(0,5):\n",
    "  crime_dict[q[i]['crime']]=q[i]\n",
    "  \n",
    "with open('person2.json', 'w') as json_file:\n",
    "  json.dump(crime_dict, json_file)"
   ]
  }
 ],
 "metadata": {
  "interpreter": {
   "hash": "c99cbb9116580cad29aa8e63b625fb07d136e380c39603ccf8ce92f752cbf7d7"
  },
  "kernelspec": {
   "display_name": "Python 3.9.1 64-bit",
   "language": "python",
   "name": "python3"
  },
  "language_info": {
   "codemirror_mode": {
    "name": "ipython",
    "version": 3
   },
   "file_extension": ".py",
   "mimetype": "text/x-python",
   "name": "python",
   "nbconvert_exporter": "python",
   "pygments_lexer": "ipython3",
   "version": "3.9.1"
  },
  "orig_nbformat": 4
 },
 "nbformat": 4,
 "nbformat_minor": 2
}
