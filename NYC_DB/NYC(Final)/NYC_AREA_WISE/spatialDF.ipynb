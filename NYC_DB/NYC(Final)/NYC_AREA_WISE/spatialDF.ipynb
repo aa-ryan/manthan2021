{
 "cells": [
  {
   "cell_type": "code",
   "execution_count": 78,
   "metadata": {},
   "outputs": [],
   "source": [
    "import numpy as np\n",
    "import pandas as pd\n",
    "import functools as ft"
   ]
  },
  {
   "cell_type": "code",
   "execution_count": 79,
   "metadata": {},
   "outputs": [
    {
     "name": "stderr",
     "output_type": "stream",
     "text": [
      "C:\\Users\\rajaa\\anaconda3\\lib\\site-packages\\IPython\\core\\interactiveshell.py:3165: DtypeWarning: Columns (18,20) have mixed types.Specify dtype option on import or set low_memory=False.\n",
      "  has_raised = await self.run_ast_nodes(code_ast.body, cell_name,\n"
     ]
    }
   ],
   "source": [
    "df= pd.read_csv(\"E:/nyc-crime/NYPD_Complaint_Data_Historic(1).csv\")"
   ]
  },
  {
   "cell_type": "code",
   "execution_count": 117,
   "metadata": {},
   "outputs": [],
   "source": [
    "df1= pd.read_csv(\"nycFreqSorted.csv\")"
   ]
  },
  {
   "cell_type": "code",
   "execution_count": 80,
   "metadata": {},
   "outputs": [],
   "source": [
    "toDrop= ['CMPLNT_NUM','CMPLNT_FR_DT','CMPLNT_FR_TM','CMPLNT_TO_DT','CMPLNT_TO_TM','ADDR_PCT_CD',\n",
    "'KY_CD','PD_CD','PD_DESC','CRM_ATPT_CPTD_CD','LAW_CAT_CD',\n",
    "'LOC_OF_OCCUR_DESC','PREM_TYP_DESC','JURIS_DESC','JURISDICTION_CODE','PARKS_NM','HADEVELOPT',\n",
    "'HOUSING_PSA','X_COORD_CD','Y_COORD_CD','SUSP_AGE_GROUP','SUSP_RACE','SUSP_SEX','TRANSIT_DISTRICT',\n",
    "'Latitude','Longitude','Lat_Lon','PATROL_BORO','STATION_NAME','VIC_AGE_GROUP','VIC_RACE','VIC_SEX']\n",
    "\n",
    "df.drop(toDrop, inplace= True, axis= 1)"
   ]
  },
  {
   "cell_type": "code",
   "execution_count": 81,
   "metadata": {},
   "outputs": [],
   "source": [
    "df= df.loc[df['BORO_NM'].notnull()]"
   ]
  },
  {
   "cell_type": "code",
   "execution_count": 82,
   "metadata": {},
   "outputs": [],
   "source": [
    "borough= pd.unique(df['BORO_NM'])\n",
    "crimes= pd.unique(df['OFNS_DESC'])"
   ]
  },
  {
   "cell_type": "code",
   "execution_count": 83,
   "metadata": {},
   "outputs": [],
   "source": [
    "df['YEAR']= df.RPT_DT.str.slice(-4)\n",
    "df['RPT_DT']= df.RPT_DT.str.slice(0,2)\n",
    "df['RPT_DT']= df.RPT_DT.str.replace('/','')\n",
    "\n",
    "df= df.astype({'RPT_DT': int, 'YEAR': int})"
   ]
  },
  {
   "cell_type": "code",
   "execution_count": 84,
   "metadata": {},
   "outputs": [],
   "source": [
    "years= pd.unique(df['YEAR'])\n",
    "months= pd.unique(df['RPT_DT'])\n",
    "\n",
    "years.sort()\n",
    "months.sort()"
   ]
  },
  {
   "cell_type": "code",
   "execution_count": 85,
   "metadata": {},
   "outputs": [],
   "source": [
    "def getMultiIndex(yr,mon):\n",
    "    l1= [yr[0]]*np.alen(mon)\n",
    "    for i in yr:\n",
    "        if i==yr[0]:\n",
    "            continue\n",
    "        l2= [i]*np.alen(mon)\n",
    "        l1.extend(l2)\n",
    "    m1= list(mon)\n",
    "    for j in np.arange(np.alen(yr)-1):\n",
    "        m1.extend(mon)\n",
    "\n",
    "    arrays= [l1,m1]\n",
    "    tuples= list(zip(*arrays))\n",
    "    ind= pd.MultiIndex.from_tuples(tuples, name= ['year','month'])\n",
    "    return ind\n",
    "\n",
    "index= getMultiIndex(years,months)\n"
   ]
  },
  {
   "cell_type": "code",
   "execution_count": 86,
   "metadata": {},
   "outputs": [],
   "source": [
    "df= df.rename(columns={'OFNS_DESC': 'Category', 'RPT_DT': 'Month', 'YEAR': 'Year'})"
   ]
  },
  {
   "cell_type": "code",
   "execution_count": 87,
   "metadata": {},
   "outputs": [],
   "source": [
    "boroList= []\n",
    "for i in borough:\n",
    "    boroList.append(df.loc[df['BORO_NM']==i])"
   ]
  },
  {
   "cell_type": "code",
   "execution_count": 138,
   "metadata": {},
   "outputs": [],
   "source": [
    "boroFreq=[]"
   ]
  },
  {
   "cell_type": "code",
   "execution_count": 139,
   "metadata": {},
   "outputs": [],
   "source": [
    "#to retrieve data frame for all years on monthly basis crime frequency\n",
    "def getYearDataFrame(NoOfYears,boroDF5):\n",
    "    yearList= list(np.arange(NoOfYears))\n",
    "    for i in np.arange(NoOfYears):\n",
    "        yearList[i]= yearDataFrame(years[i],boroDF5)\n",
    "    return yearList\n",
    "\n",
    "#to retrieve data frame for monthly basis crime freqeuncy for a single year on the basis of the given year\n",
    "def yearDataFrame(yearNumber,boroDF1):\n",
    "    yearTemp= boroDF1.loc[boroDF1['Year']==yearNumber]\n",
    "    monthFrame= getMonthDataFrame(yearTemp,len(months),yearNumber,boroDF1)\n",
    "    yearDf= ft.reduce(lambda left, right: pd.merge(left,right,on='Category',how='outer'),monthFrame)\n",
    "    yearDf=yearDf.fillna(0)\n",
    "    return yearDf\n",
    "\n",
    "#to retrive the monthly basis crime frequency for all months of a year\n",
    "def getMonthDataFrame(yearTem,noOfMonths,yearNum,boroDF2):\n",
    "    monthList= list(np.arange(noOfMonths))\n",
    "    for i in np.arange(noOfMonths):\n",
    "        monthList[i]= monthDataFrame(yearTem,months[i],yearNum,boroDF2)\n",
    "    return monthList\n",
    "\n",
    "#to retrieve the dataframe for crime frequency of a single month\n",
    "def monthDataFrame(yearTempo,monthNumber,yearNo,boroDF3):\n",
    "    monthTemp= yearTempo.loc[boroDF3['Month']==monthNumber]\n",
    "    monthlyTempDf= monthTemp['Category'].value_counts().rename_axis('Category').reset_index(name=\"Month-\"+str(monthNumber)+\"(\"+str(yearNo)+\")\")\n",
    "    return monthlyTempDf    \n",
    "\n",
    "def getDF(boroDF):\n",
    "    final_list= getYearDataFrame(len(years),boroDF)\n",
    "    #merging all the year based dataframe into a single dataframe taking the Category as the common field\n",
    "    df_final= ft.reduce(lambda left, right: pd.merge(left,right,on='Category',how='outer'),final_list)\n",
    "\n",
    "    #replace all na values with 0\n",
    "    df_final= df_final.fillna(0)\n",
    "    return df_final\n",
    "\n",
    "\n",
    "def getForAllBorough(boro):\n",
    "    for i in boro:\n",
    "        boroFreq.append(getDF(i))\n",
    "\n",
    "getForAllBorough(boroList)"
   ]
  },
  {
   "cell_type": "code",
   "execution_count": 141,
   "metadata": {},
   "outputs": [],
   "source": [
    "for k in np.arange(np.alen(boroFreq)):\n",
    "    #adding row showing total crime in each month\n",
    "    crimeInMonth= np.arange((len(months)*len(years))+1)\n",
    "    count=0\n",
    "    for i in np.arange(len(years)):\n",
    "         for j in np.arange(len(months)):\n",
    "               #crimeInMonth[count+1]= np.sum(df_final['Month-12(2015)'])\n",
    "                crimeInMonth[count+1]= np.sum(boroFreq[k]['Month-'+str(months[j])+\"(\"+str(years[i])+')'])\n",
    "                count+=1\n",
    "               # crimeInMonth[count+1]= np.sum(df_final['Month-'+str(months[j])+\"(\"+str(years[i])+\")\"])\n",
    "    \n",
    "\n",
    "    crimeMonth= pd.DataFrame([crimeInMonth],columns=boroFreq[k].columns)\n",
    "    crimeMonth['Category']='TOTAL'\n",
    "\n",
    "    boroFreq[k]= pd.concat([boroFreq[k],crimeMonth],ignore_index=True)"
   ]
  },
  {
   "cell_type": "code",
   "execution_count": 143,
   "metadata": {},
   "outputs": [],
   "source": [
    "categoryList= []\n",
    "data=[]\n",
    "subDfList=[]\n",
    "\n",
    "for i in np.arange(np.alen(boroFreq)):\n",
    "    cat= boroFreq[i]['Category']\n",
    "    boroFreq[i].drop(['Category'],inplace= True, axis=1)\n",
    "    data.append(boroFreq[i].values)\n",
    "    subDfList.append(pd.DataFrame(data= data[i], columns= index))\n",
    "    subDfList[i].insert(0,'Category',cat)\n",
    "    subDfList[i]= subDfList[i].set_index('Category')"
   ]
  },
  {
   "cell_type": "code",
   "execution_count": 105,
   "metadata": {},
   "outputs": [],
   "source": [
    "for i in np.arange(np.alen(subDfList)):\n",
    "    #to Download the mutated dataframe as csv\n",
    "    subDfList[i].to_csv(borough[i]+\"_Frequency.csv\")"
   ]
  },
  {
   "cell_type": "code",
   "execution_count": 220,
   "metadata": {},
   "outputs": [],
   "source": [
    "subDfPercentList=[]"
   ]
  },
  {
   "cell_type": "code",
   "execution_count": 222,
   "metadata": {},
   "outputs": [
    {
     "name": "stderr",
     "output_type": "stream",
     "text": [
      "<ipython-input-222-da305a4d7527>:11: SettingWithCopyWarning: \n",
      "A value is trying to be set on a copy of a slice from a DataFrame.\n",
      "Try using .loc[row_indexer,col_indexer] = value instead\n",
      "\n",
      "See the caveats in the documentation: https://pandas.pydata.org/pandas-docs/stable/user_guide/indexing.html#returning-a-view-versus-a-copy\n",
      "  dfTest[i][j]*=(100/df1.iloc[73][num])\n"
     ]
    }
   ],
   "source": [
    "# a function to calculate percentage of each crime in each month per year\n",
    "\n",
    "def getPercentDataFrame(df2):\n",
    "    num=0\n",
    "    dfTest= df2\n",
    "    monTotal= dfTest.last_valid_index()\n",
    "    for i in years:\n",
    "        for j in months:\n",
    "            num=num+1\n",
    "            if dfTest[i][j][monTotal]>0:\n",
    "                dfTest[i][j]*=(100/df1.iloc[73][num])\n",
    "                continue\n",
    "            dfTest[i][j]=0\n",
    "            \n",
    "    return dfTest\n",
    "#function call\n",
    "for k in subDfList:\n",
    "     subDfPercentList.append(getPercentDataFrame(k))\n"
   ]
  },
  {
   "cell_type": "code",
   "execution_count": 226,
   "metadata": {},
   "outputs": [],
   "source": [
    "for i in np.arange(np.alen(subDfPercentList)):\n",
    "    #to Download the mutated dataframe as csv\n",
    "    subDfPercentList[i].to_csv(borough[i]+\"_PercentageTotal.csv\")"
   ]
  }
 ],
 "metadata": {
  "interpreter": {
   "hash": "40af2edec521f33cde59752a895feb0a05969edae522c099fbec3ef27845b411"
  },
  "kernelspec": {
   "display_name": "Python 3.8.8 64-bit ('base': conda)",
   "language": "python",
   "name": "python3"
  },
  "language_info": {
   "codemirror_mode": {
    "name": "ipython",
    "version": 3
   },
   "file_extension": ".py",
   "mimetype": "text/x-python",
   "name": "python",
   "nbconvert_exporter": "python",
   "pygments_lexer": "ipython3",
   "version": "3.8.8"
  },
  "orig_nbformat": 4
 },
 "nbformat": 4,
 "nbformat_minor": 2
}
