{
 "cells": [
  {
   "cell_type": "code",
   "execution_count": 177,
   "metadata": {},
   "outputs": [],
   "source": [
    "#importing libraries\n",
    "import numpy as np\n",
    "import pandas as pd\n",
    "import functools as ft"
   ]
  },
  {
   "cell_type": "code",
   "execution_count": 178,
   "metadata": {},
   "outputs": [
    {
     "name": "stderr",
     "output_type": "stream",
     "text": [
      "C:\\Users\\rajaa\\anaconda3\\lib\\site-packages\\IPython\\core\\interactiveshell.py:3165: DtypeWarning: Columns (17) have mixed types.Specify dtype option on import or set low_memory=False.\n",
      "  has_raised = await self.run_ast_nodes(code_ast.body, cell_name,\n"
     ]
    }
   ],
   "source": [
    "#reading the csv file\n",
    "df= pd.read_csv(\"C:/Users/rajaa/OneDrive/Desktop/NYPD_Complaint_Data_Historic.csv\")"
   ]
  },
  {
   "cell_type": "code",
   "execution_count": 179,
   "metadata": {},
   "outputs": [],
   "source": [
    "#dropping the irrelevant columns\n",
    "toDrop= ['CMPLNT_NUM','CMPLNT_FR_DT','CMPLNT_FR_TM','CMPLNT_TO_DT','CMPLNT_TO_TM','KY_CD','PD_CD','PD_DESC','CRM_ATPT_CPTD_CD'\n",
    "         ,'LAW_CAT_CD','ADDR_PCT_CD','LOC_OF_OCCUR_DESC','PREM_TYP_DESC','PARKS_NM','HADEVELOPT','X_COORD_CD','Y_COORD_CD','Latitude','Longitude','Lat_Lon']\n",
    "\n",
    "df.drop(toDrop, inplace=True, axis= 1)"
   ]
  },
  {
   "cell_type": "code",
   "execution_count": 180,
   "metadata": {},
   "outputs": [],
   "source": [
    "#creating a column named year reffering to year of occurence\n",
    "df['year']=df.RPT_DT.str.slice(-4)    #will consider the last 4 characters of the RPT_DT"
   ]
  },
  {
   "cell_type": "code",
   "execution_count": 181,
   "metadata": {},
   "outputs": [],
   "source": [
    "#updating the values of the cells of RPT_DT referring to Month only\n",
    "df['RPT_DT']= df.RPT_DT.str.slice(0,2)\n",
    "\n",
    "#if there is month sliced as '5/' then / will be replaced with empty string\n",
    "df['RPT_DT']=df.RPT_DT.str.replace(\"/\",\"\")"
   ]
  },
  {
   "cell_type": "code",
   "execution_count": 182,
   "metadata": {},
   "outputs": [],
   "source": [
    "#changing the data typy of RPT_DT and year from object to Year\n",
    "newType= {'RPT_DT': int, 'year': int}\n",
    "df=df.astype(newType)"
   ]
  },
  {
   "cell_type": "code",
   "execution_count": 183,
   "metadata": {},
   "outputs": [],
   "source": [
    "#creating a list containg the unique numbers of the year and month mentioned\n",
    "years= pd.unique(df['year'])\n",
    "months= pd.unique(df['RPT_DT'])"
   ]
  },
  {
   "cell_type": "code",
   "execution_count": 184,
   "metadata": {},
   "outputs": [],
   "source": [
    "#renaming the column RPT_DT to Month and year to Year respectively\n",
    "df= df.rename(columns= {'RPT_DT': 'Month', 'year': 'Year', 'OFNS_DESC': 'Category'})"
   ]
  },
  {
   "cell_type": "code",
   "execution_count": 185,
   "metadata": {},
   "outputs": [],
   "source": [
    "\n",
    "#to retrieve data frame for all years on monthly basis crime frequency\n",
    "def getYearDataFrame(NoOfYears):\n",
    "    yearList= list(np.arange(NoOfYears))\n",
    "    for i in np.arange(NoOfYears):\n",
    "        yearList[i]= yearDataFrame(years[i])\n",
    "    return yearList\n",
    "\n",
    "#to retrieve data frame for monthly basis crime freqeuncy for a single year on the basis of the given year\n",
    "def yearDataFrame(yearNumber):\n",
    "    yearTemp= df.loc[df['Year']==yearNumber]\n",
    "    monthFrame= getMonthDataFrame(yearTemp,len(months),yearNumber)\n",
    "    yearDf= ft.reduce(lambda left, right: pd.merge(left,right,on='Category',how='outer'),monthFrame)\n",
    "    yearDf=yearDf.fillna(0)\n",
    "    return yearDf\n",
    "\n",
    "#to retrive the monthly basis crime frequency for all months of a year\n",
    "def getMonthDataFrame(yearTem,noOfMonths,yearNum):\n",
    "    monthList= list(np.arange(noOfMonths))\n",
    "    for i in np.arange(noOfMonths):\n",
    "        monthList[i]= monthDataFrame(yearTem,months[i],yearNum)\n",
    "    return monthList\n",
    "\n",
    "#to retrieve the dataframe for crime frequency of a single month\n",
    "def monthDataFrame(yearTempo,monthNumber,yearNo):\n",
    "    monthTemp= yearTempo.loc[df['Month']==monthNumber]\n",
    "    monthlyTempDf= monthTemp['Category'].value_counts().rename_axis('Category').reset_index(name=\"Month-\"+str(monthNumber)+\"(\"+str(yearNo)+\")\")\n",
    "    return monthlyTempDf    \n",
    "\n",
    "final_list= getYearDataFrame(len(years))\n",
    "    "
   ]
  },
  {
   "cell_type": "code",
   "execution_count": 186,
   "metadata": {},
   "outputs": [],
   "source": [
    "#merging all the year based dataframe into a single dataframe taking the Category as the common field\n",
    "df_final= ft.reduce(lambda left, right: pd.merge(left,right,on='Category',how='outer'),final_list)\n",
    "\n",
    "#replace all na values with 0\n",
    "df_final= df_final.fillna(0)"
   ]
  },
  {
   "cell_type": "code",
   "execution_count": 187,
   "metadata": {},
   "outputs": [],
   "source": [
    "#adding row showing total crime in each month\n",
    "crimeInMonth= np.arange((len(months)*len(years))+1)\n",
    "count=0\n",
    "for i in np.arange(len(years)):\n",
    "    for j in np.arange(len(months)):\n",
    "               #crimeInMonth[count+1]= np.sum(df_final['Month-12(2015)'])\n",
    "                crimeInMonth[count+1]= np.sum(df_final['Month-'+str(months[j])+\"(\"+str(years[i])+')'])\n",
    "                count+=1\n",
    "               # crimeInMonth[count+1]= np.sum(df_final['Month-'+str(months[j])+\"(\"+str(years[i])+\")\"])\n",
    "    \n",
    "\n",
    "crimeMonth= pd.DataFrame([crimeInMonth],columns=df_final.columns)\n",
    "crimeMonth['Category']='TOTAL'\n",
    "\n",
    "df_final= pd.concat([df_final,crimeMonth],ignore_index=True)"
   ]
  },
  {
   "cell_type": "code",
   "execution_count": 175,
   "metadata": {},
   "outputs": [],
   "source": [
    "#converting the final dataframe into csv file\n",
    "df_final.to_csv(\"check1.csv\")"
   ]
  }
 ],
 "metadata": {
  "interpreter": {
   "hash": "40af2edec521f33cde59752a895feb0a05969edae522c099fbec3ef27845b411"
  },
  "kernelspec": {
   "display_name": "Python 3.8.8 64-bit ('base': conda)",
   "name": "python3"
  },
  "language_info": {
   "codemirror_mode": {
    "name": "ipython",
    "version": 3
   },
   "file_extension": ".py",
   "mimetype": "text/x-python",
   "name": "python",
   "nbconvert_exporter": "python",
   "pygments_lexer": "ipython3",
   "version": "3.8.8"
  },
  "orig_nbformat": 4
 },
 "nbformat": 4,
 "nbformat_minor": 2
}
