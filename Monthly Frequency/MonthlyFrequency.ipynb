#importing libraries

import numpy as np
import pandas as pd
import functools as ft

#reading the input file

df= pd.read_csv("C:/Users/rajaa/OneDrive/Desktop/DatasetUpdated3.csv")
#renaming columns

df= df.rename(columns= {'Create Date/Time': 'Month'})
#retrieving the month of crime as int

df['Month']= df.Month.str.slice(3,5)

newType= {'Month': int}
df= df.astype(newType)

#creating a temporary dataframe

dfTemp= df
#calculating total number of monthes considered

noOfMonths= len(pd.unique(df['Month']))
monthList= pd.unique(df['Month'])
#to find dataframe with crime frequency monthwise
freqList= np.arange(noOfMonths)
def monthFrame(month):
    monTemp= dfTemp.loc[df['Month']==month]
    monthlyTempDf= monTemp['Event Type'].value_counts().rename_axis('Category').reset_index(name='Month-'+str(month))
    return monthlyTempDf

def getMonthFrame(n):
    lis= list(np.arange(n))
    for i in np.arange(n):
        lis[i]= monthFrame(monthList[i])
    return lis

freqList=getMonthFrame(noOfMonths)
#merging all monthly basis frequency dataframe

df_final= ft.reduce(lambda left, right: pd.merge(left,right,on='Category',how='outer'),freqList)

#replacing empty cells with 0

df_final= df_final.fillna(0)
#adding row showing total crime in each month

crimeInMonth= np.arange(noOfMonths+1)
for i in np.arange(noOfMonths):
    crimeInMonth[i+1]= np.sum(df_final['Month-'+str(monthList[i])])

crimeMonth= pd.DataFrame([crimeInMonth],columns=df_final.columns)
crimeMonth['Category']='TOTAL'

df_final= pd.concat([df_final,crimeMonth],ignore_index=True)
df_final.to_csv("MonthlyFrequency.csv")
