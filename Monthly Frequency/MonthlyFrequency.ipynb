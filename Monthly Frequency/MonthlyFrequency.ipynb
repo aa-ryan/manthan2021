{
 "cells": [
  {
   "cell_type": "code",
   "execution_count": 6,
   "metadata": {},
   "outputs": [],
   "source": [
    "#importing libraries\n",
    "\n",
    "import numpy as np\n",
    "import pandas as pd\n",
    "import functools as ft"
   ]
  },
  {
   "cell_type": "code",
   "execution_count": 7,
   "metadata": {},
   "outputs": [],
   "source": [
    "#reading the input file\n",
    "\n",
    "df= pd.read_csv(\"C:/Users/rajaa/OneDrive/Desktop/DatasetUpdated3.csv\")"
   ]
  },
  {
   "cell_type": "code",
   "execution_count": 8,
   "metadata": {},
   "outputs": [],
   "source": [
    "#renaming columns\n",
    "\n",
    "df= df.rename(columns= {'Create Date/Time': 'Month'})"
   ]
  },
  {
   "cell_type": "code",
   "execution_count": 10,
   "metadata": {},
   "outputs": [],
   "source": [
    "#retrieving the month of crime as int\n",
    "\n",
    "df['Month']= df.Month.str.slice(3,5)\n",
    "\n",
    "newType= {'Month': int}\n",
    "df= df.astype(newType)\n"
   ]
  },
  {
   "cell_type": "code",
   "execution_count": 12,
   "metadata": {},
   "outputs": [],
   "source": [
    "#creating a temporary dataframe\n",
    "\n",
    "dfTemp= df"
   ]
  },
  {
   "cell_type": "code",
   "execution_count": 15,
   "metadata": {},
   "outputs": [],
   "source": [
    "#calculating total number of monthes considered\n",
    "\n",
    "noOfMonths= len(pd.unique(df['Month']))\n",
    "monthList= pd.unique(df['Month'])"
   ]
  },
  {
   "cell_type": "code",
   "execution_count": 40,
   "metadata": {},
   "outputs": [],
   "source": [
    "#to find dataframe with crime frequency monthwise\n",
    "freqList= np.arange(noOfMonths)\n",
    "def monthFrame(month):\n",
    "    monTemp= dfTemp.loc[df['Month']==month]\n",
    "    monthlyTempDf= monTemp['Event Type'].value_counts().rename_axis('Category').reset_index(name='Month-'+str(month))\n",
    "    return monthlyTempDf\n",
    "\n",
    "def getMonthFrame(n):\n",
    "    lis= list(np.arange(n))\n",
    "    for i in np.arange(n):\n",
    "        lis[i]= monthFrame(monthList[i])\n",
    "    return lis\n",
    "\n",
    "freqList=getMonthFrame(noOfMonths)"
   ]
  },
  {
   "cell_type": "code",
   "execution_count": 44,
   "metadata": {},
   "outputs": [],
   "source": [
    "#merging all monthly basis frequency dataframe\n",
    "\n",
    "df_final= ft.reduce(lambda left, right: pd.merge(left,right,on='Category',how='outer'),freqList)\n",
    "\n",
    "#replacing empty cells with 0\n",
    "\n",
    "df_final= df_final.fillna(0)"
   ]
  },
  {
   "cell_type": "code",
   "execution_count": 93,
   "metadata": {},
   "outputs": [],
   "source": [
    "#adding row showing total crime in each month\n",
    "\n",
    "crimeInMonth= np.arange(noOfMonths+1)\n",
    "for i in np.arange(noOfMonths):\n",
    "    crimeInMonth[i+1]= np.sum(df_final['Month-'+str(monthList[i])])\n",
    "\n",
    "crimeMonth= pd.DataFrame([crimeInMonth],columns=df_final.columns)\n",
    "crimeMonth['Category']='TOTAL'\n",
    "\n",
    "df_final= pd.concat([df_final,crimeMonth],ignore_index=True)"
   ]
  },
  {
   "cell_type": "code",
   "execution_count": 95,
   "metadata": {},
   "outputs": [],
   "source": [
    "df_final.to_csv(\"MonthlyFrequency.csv\")"
   ]
  }
 ],
 "metadata": {
  "interpreter": {
   "hash": "40af2edec521f33cde59752a895feb0a05969edae522c099fbec3ef27845b411"
  },
  "kernelspec": {
   "display_name": "Python 3.8.8 64-bit ('base': conda)",
   "name": "python3"
  },
  "language_info": {
   "codemirror_mode": {
    "name": "ipython",
    "version": 3
   },
   "file_extension": ".py",
   "mimetype": "text/x-python",
   "name": "python",
   "nbconvert_exporter": "python",
   "pygments_lexer": "ipython3",
   "version": "3.8.8"
  },
  "orig_nbformat": 4
 },
 "nbformat": 4,
 "nbformat_minor": 2
}
